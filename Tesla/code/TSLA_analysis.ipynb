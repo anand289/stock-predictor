{
 "cells": [
  {
   "cell_type": "code",
   "execution_count": 2,
   "id": "101a6264-3702-470d-bced-0db65e7be4c9",
   "metadata": {},
   "outputs": [],
   "source": [
    "import pandas as pd\n",
    "import numpy as np\n",
    "import matplotlib.pyplot as plt\n",
    "import seaborn as sns\n",
    "import nltk\n",
    "%matplotlib inline"
   ]
  },
  {
   "cell_type": "code",
   "execution_count": 3,
   "id": "b9e4e5e5-16b6-482c-becf-f144c6efbf93",
   "metadata": {},
   "outputs": [],
   "source": [
    "tesla_article_table = pd.read_excel(\"/Users/anandsingh/Desktop/stock_predictor/Tesla/results/tesla_article_table.xlsx\",index_col=0)"
   ]
  },
  {
   "cell_type": "code",
   "execution_count": 4,
   "id": "ad8a3656-e7c4-4d65-a1a1-51a4e67ba556",
   "metadata": {},
   "outputs": [],
   "source": [
    "concatenated_table = pd.read_excel(\"/Users/anandsingh/Desktop/stock_predictor/Tesla/results/concatenated_table.xlsx\",index_col=0)"
   ]
  },
  {
   "cell_type": "code",
   "execution_count": 6,
   "id": "ae01bf8d-2665-4db7-b93c-db7625ce8517",
   "metadata": {},
   "outputs": [
    {
     "data": {
      "text/html": [
       "<div>\n",
       "<style scoped>\n",
       "    .dataframe tbody tr th:only-of-type {\n",
       "        vertical-align: middle;\n",
       "    }\n",
       "\n",
       "    .dataframe tbody tr th {\n",
       "        vertical-align: top;\n",
       "    }\n",
       "\n",
       "    .dataframe thead th {\n",
       "        text-align: right;\n",
       "    }\n",
       "</style>\n",
       "<table border=\"1\" class=\"dataframe\">\n",
       "  <thead>\n",
       "    <tr style=\"text-align: right;\">\n",
       "      <th></th>\n",
       "      <th>Date</th>\n",
       "      <th>Articles</th>\n",
       "      <th>compound</th>\n",
       "      <th>pos</th>\n",
       "      <th>neg</th>\n",
       "      <th>neu</th>\n",
       "    </tr>\n",
       "  </thead>\n",
       "  <tbody>\n",
       "    <tr>\n",
       "      <th>0</th>\n",
       "      <td>01/20/23</td>\n",
       "      <td>Wall St Week Ahead-Tech stock rebound faces do...</td>\n",
       "      <td>-0.3182</td>\n",
       "      <td>0.000</td>\n",
       "      <td>0.119</td>\n",
       "      <td>0.881</td>\n",
       "    </tr>\n",
       "    <tr>\n",
       "      <th>1</th>\n",
       "      <td>01/20/23</td>\n",
       "      <td>Should You Buy the Dip on Rivian Stock in 2023...</td>\n",
       "      <td>0.9932</td>\n",
       "      <td>0.133</td>\n",
       "      <td>0.066</td>\n",
       "      <td>0.801</td>\n",
       "    </tr>\n",
       "    <tr>\n",
       "      <th>2</th>\n",
       "      <td>01/20/23</td>\n",
       "      <td>Pre-Market Most Active for Jan 20, 2023 : TQQQ...</td>\n",
       "      <td>0.9886</td>\n",
       "      <td>0.126</td>\n",
       "      <td>0.011</td>\n",
       "      <td>0.863</td>\n",
       "    </tr>\n",
       "    <tr>\n",
       "      <th>3</th>\n",
       "      <td>01/20/23</td>\n",
       "      <td>Tesla Causes Used Car Prices to Plunge -- What...</td>\n",
       "      <td>-0.4926</td>\n",
       "      <td>0.076</td>\n",
       "      <td>0.090</td>\n",
       "      <td>0.834</td>\n",
       "    </tr>\n",
       "    <tr>\n",
       "      <th>4</th>\n",
       "      <td>01/20/23</td>\n",
       "      <td>FOCUS-Here's what Twitter lost in advertising ...</td>\n",
       "      <td>0.9956</td>\n",
       "      <td>0.093</td>\n",
       "      <td>0.041</td>\n",
       "      <td>0.866</td>\n",
       "    </tr>\n",
       "  </tbody>\n",
       "</table>\n",
       "</div>"
      ],
      "text/plain": [
       "       Date                                           Articles  compound  \\\n",
       "0  01/20/23  Wall St Week Ahead-Tech stock rebound faces do...   -0.3182   \n",
       "1  01/20/23  Should You Buy the Dip on Rivian Stock in 2023...    0.9932   \n",
       "2  01/20/23  Pre-Market Most Active for Jan 20, 2023 : TQQQ...    0.9886   \n",
       "3  01/20/23  Tesla Causes Used Car Prices to Plunge -- What...   -0.4926   \n",
       "4  01/20/23  FOCUS-Here's what Twitter lost in advertising ...    0.9956   \n",
       "\n",
       "     pos    neg    neu  \n",
       "0  0.000  0.119  0.881  \n",
       "1  0.133  0.066  0.801  \n",
       "2  0.126  0.011  0.863  \n",
       "3  0.076  0.090  0.834  \n",
       "4  0.093  0.041  0.866  "
      ]
     },
     "execution_count": 6,
     "metadata": {},
     "output_type": "execute_result"
    }
   ],
   "source": [
    "tesla_article_table.head()"
   ]
  },
  {
   "cell_type": "code",
   "execution_count": null,
   "id": "4d69f316-b0ca-4520-b8c7-c49ca5e9ea0e",
   "metadata": {},
   "outputs": [],
   "source": []
  }
 ],
 "metadata": {
  "kernelspec": {
   "display_name": "Python 3 (ipykernel)",
   "language": "python",
   "name": "python3"
  },
  "language_info": {
   "codemirror_mode": {
    "name": "ipython",
    "version": 3
   },
   "file_extension": ".py",
   "mimetype": "text/x-python",
   "name": "python",
   "nbconvert_exporter": "python",
   "pygments_lexer": "ipython3",
   "version": "3.9.13"
  }
 },
 "nbformat": 4,
 "nbformat_minor": 5
}
